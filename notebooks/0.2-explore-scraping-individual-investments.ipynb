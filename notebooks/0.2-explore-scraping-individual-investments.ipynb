{
 "cells": [
  {
   "cell_type": "code",
   "execution_count": 1,
   "metadata": {},
   "outputs": [],
   "source": [
    "import os, sys\n",
    "sys.path.insert(0, os.environ['PROJECT_PATH'])"
   ]
  },
  {
   "cell_type": "code",
   "execution_count": 2,
   "metadata": {},
   "outputs": [],
   "source": [
    "import pandas as pd, requests, datetime"
   ]
  },
  {
   "cell_type": "code",
   "execution_count": 3,
   "metadata": {},
   "outputs": [],
   "source": [
    "from config.resources import path_to"
   ]
  },
  {
   "cell_type": "code",
   "execution_count": 7,
   "metadata": {},
   "outputs": [],
   "source": [
    "test_df = pd.read_csv(path_to['funding_rounds'], encoding='latin1')\n",
    "test_df['updated_at'] = pd.to_datetime(test_df['updated_at'])"
   ]
  },
  {
   "cell_type": "code",
   "execution_count": 8,
   "metadata": {},
   "outputs": [
    {
     "data": {
      "text/plain": [
       "Index([u'uuid', u'updated_at'], dtype='object')"
      ]
     },
     "execution_count": 8,
     "metadata": {},
     "output_type": "execute_result"
    }
   ],
   "source": [
    "test_df.columns"
   ]
  },
  {
   "cell_type": "code",
   "execution_count": 9,
   "metadata": {},
   "outputs": [],
   "source": [
    "curr_year = datetime.datetime.now().year\n",
    "year_range = list(map(str, range(curr_year-2, curr_year+1)))"
   ]
  },
  {
   "cell_type": "code",
   "execution_count": null,
   "metadata": {},
   "outputs": [],
   "source": [
    "def get_investments(url, fields):\n",
    "    res = requests.get(url)\n",
    "    \n",
    "    if res.status_code == 200:\n",
    "        payload = res.json()\n",
    "        \n",
    "    else:\n",
    "        raise Exception()"
   ]
  },
  {
   "cell_type": "code",
   "execution_count": 10,
   "metadata": {},
   "outputs": [
    {
     "data": {
      "text/plain": [
       "(138137, 2)"
      ]
     },
     "execution_count": 10,
     "metadata": {},
     "output_type": "execute_result"
    }
   ],
   "source": [
    "def build_investments_df(source_df, fields, year_range):\n",
    "    source_df.sort_values('updated_at', inplace=True, ascending=False)\n",
    "\n",
    "    url_template = \"https://api.crunchbase.com/v3.1/funding-rounds/{uuid}/{relationship_name}?user_key={user_key}\"\n",
    "    source_df = source_df[source_df['updated_at'].dt.year.isin(year_range) ]\n",
    "    for index, row in source_df.iterrrows():\n",
    "        rel_name, uuid = 'investments', row['uuid']\n",
    "        url = url_template.format(uuid=uuid, relationship_name=rel_name, user_key=os.environ['CRUNCHBASE_API_KEY'])\n",
    "        investment_batch = get_investments(url, fields)\n",
    "        #TODO: handle result of investment batch\n",
    "        \n",
    "#     source_df.shape"
   ]
  },
  {
   "cell_type": "code",
   "execution_count": 11,
   "metadata": {},
   "outputs": [
    {
     "data": {
      "text/html": [
       "<div>\n",
       "<style scoped>\n",
       "    .dataframe tbody tr th:only-of-type {\n",
       "        vertical-align: middle;\n",
       "    }\n",
       "\n",
       "    .dataframe tbody tr th {\n",
       "        vertical-align: top;\n",
       "    }\n",
       "\n",
       "    .dataframe thead th {\n",
       "        text-align: right;\n",
       "    }\n",
       "</style>\n",
       "<table border=\"1\" class=\"dataframe\">\n",
       "  <thead>\n",
       "    <tr style=\"text-align: right;\">\n",
       "      <th></th>\n",
       "      <th>uuid</th>\n",
       "      <th>updated_at</th>\n",
       "    </tr>\n",
       "  </thead>\n",
       "  <tbody>\n",
       "    <tr>\n",
       "      <th>166</th>\n",
       "      <td>b4fccfc0-0ff0-4b94-8b8d-b8379f319b81</td>\n",
       "      <td>2017-12-09 17:18:19</td>\n",
       "    </tr>\n",
       "    <tr>\n",
       "      <th>160</th>\n",
       "      <td>de0f6c88-451e-4a58-9266-650df5a057ad</td>\n",
       "      <td>2017-12-09 17:16:39</td>\n",
       "    </tr>\n",
       "    <tr>\n",
       "      <th>151</th>\n",
       "      <td>dfc29f3c-946c-478f-ae63-fec895a33f32</td>\n",
       "      <td>2017-12-09 17:16:39</td>\n",
       "    </tr>\n",
       "    <tr>\n",
       "      <th>58</th>\n",
       "      <td>68f8c836-c820-4516-bdb0-d2297cef7bb6</td>\n",
       "      <td>2017-12-09 17:00:47</td>\n",
       "    </tr>\n",
       "    <tr>\n",
       "      <th>72</th>\n",
       "      <td>dc4c0682-85c3-402b-80a3-fb97a52585ed</td>\n",
       "      <td>2017-12-09 17:00:47</td>\n",
       "    </tr>\n",
       "  </tbody>\n",
       "</table>\n",
       "</div>"
      ],
      "text/plain": [
       "                                     uuid          updated_at\n",
       "166  b4fccfc0-0ff0-4b94-8b8d-b8379f319b81 2017-12-09 17:18:19\n",
       "160  de0f6c88-451e-4a58-9266-650df5a057ad 2017-12-09 17:16:39\n",
       "151  dfc29f3c-946c-478f-ae63-fec895a33f32 2017-12-09 17:16:39\n",
       "58   68f8c836-c820-4516-bdb0-d2297cef7bb6 2017-12-09 17:00:47\n",
       "72   dc4c0682-85c3-402b-80a3-fb97a52585ed 2017-12-09 17:00:47"
      ]
     },
     "execution_count": 11,
     "metadata": {},
     "output_type": "execute_result"
    }
   ],
   "source": [
    "rel_name = 'investments'\n",
    "uuid = test_df.iloc[4, 0]\n",
    "test_df.head()"
   ]
  },
  {
   "cell_type": "code",
   "execution_count": 24,
   "metadata": {},
   "outputs": [
    {
     "data": {
      "text/plain": [
       "{u'announced_on': u'2001-10-01',\n",
       " u'announced_on_trust_code': 7,\n",
       " u'created_at': 1512838847,\n",
       " u'is_lead_investor': False,\n",
       " u'money_invested': 3000000,\n",
       " u'money_invested_currency_code': u'EUR',\n",
       " u'money_invested_usd': 2747547,\n",
       " u'updated_at': 1512838847}"
      ]
     },
     "execution_count": 24,
     "metadata": {},
     "output_type": "execute_result"
    }
   ],
   "source": [
    "payload['data']['items'][0].keys()\n",
    "\n",
    "payload['data']['items'][0]['properties']"
   ]
  },
  {
   "cell_type": "code",
   "execution_count": 54,
   "metadata": {},
   "outputs": [
    {
     "data": {
      "text/plain": [
       "129578"
      ]
     },
     "execution_count": 54,
     "metadata": {},
     "output_type": "execute_result"
    }
   ],
   "source": [
    "len(test_df[test_df['investor_name'] != 'Founders, friends and family'].groupby('funding_round_uuid'))"
   ]
  },
  {
   "cell_type": "code",
   "execution_count": 55,
   "metadata": {},
   "outputs": [
    {
     "data": {
      "text/plain": [
       "292328"
      ]
     },
     "execution_count": 55,
     "metadata": {},
     "output_type": "execute_result"
    }
   ],
   "source": [
    "test_df[test_df['investor_name'] != 'Founders, friends and family'].shape[0]"
   ]
  },
  {
   "cell_type": "code",
   "execution_count": null,
   "metadata": {},
   "outputs": [],
   "source": []
  }
 ],
 "metadata": {
  "kernelspec": {
   "display_name": "Python 2",
   "language": "python",
   "name": "python2"
  },
  "language_info": {
   "codemirror_mode": {
    "name": "ipython",
    "version": 2
   },
   "file_extension": ".py",
   "mimetype": "text/x-python",
   "name": "python",
   "nbconvert_exporter": "python",
   "pygments_lexer": "ipython2",
   "version": "2.7.12"
  }
 },
 "nbformat": 4,
 "nbformat_minor": 2
}
